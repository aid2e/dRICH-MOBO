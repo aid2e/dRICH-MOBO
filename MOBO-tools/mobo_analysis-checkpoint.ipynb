{
 "cells": [
  {
   "cell_type": "markdown",
   "id": "63852043-8574-4d22-a73b-604001ec78cd",
   "metadata": {},
   "source": [
    "### Notes:\n",
    "- nominal design performs well because momenta specifically based on current detector\n",
    "    - different momenta will produce different optimal configurations\n",
    "- need to pick momenta that are a priori interesting to optimize for\n",
    "\n",
    "- also need better param bounds\n",
    "\n",
    "- mupisepplow has lower cross validation score and is overall lower because it is harder to improve\n",
    "    - mupisepphigh is just \"whether particle makes it through all layers or not\"\n",
    "    - mupisepplow is more difficult because muons and pions overlap in # of layers traveled and with diff distributions\n",
    "\n",
    "### TODO\n",
    "- Transform objective values?\n",
    "- Better pareto front\n",
    "- Outer radius:\n",
    "    - objective constraint?\n",
    "    - don't calculate as black box?\n",
    "    - don't use as objective?\n",
    "\n",
    "\n",
    "Types of graphs:\n",
    "- pareto front:\n",
    "    - 3d graphs\n",
    "        - https://www.desmos.com/3d/hxmrut81bs\n",
    "        - https://www.desmos.com/3d/fovj0otenz\n",
    "    - 2d graphs with third objective color scale\n",
    "- param vs output:\n",
    "    - contour plots as slices\n",
    "\n",
    "\n",
    "Note that PID algorithm assumes muons and pions in equal numbers"
   ]
  },
  {
   "cell_type": "code",
   "execution_count": 22,
   "id": "24145b1a-dc5d-4331-b74f-35a9ba5ce5b1",
   "metadata": {},
   "outputs": [
    {
     "data": {
      "text/plain": [
       "[ObjectiveThreshold(low_RMSE <= 0.75), ObjectiveThreshold(high_RMSE <= 0.6)]"
      ]
     },
     "execution_count": 22,
     "metadata": {},
     "output_type": "execute_result"
    }
   ],
   "source": [
    "experiment.optimization_config.objective_thresholds"
   ]
  },
  {
   "cell_type": "code",
   "execution_count": 23,
   "id": "d2543765-d95b-4adb-a7f6-56d8ba2f7d85",
   "metadata": {},
   "outputs": [
    {
     "data": {
      "text/plain": [
       "[ObjectiveThreshold(low_RMSE <= 0.6), ObjectiveThreshold(high_RMSE <= 0.75)]"
      ]
     },
     "execution_count": 23,
     "metadata": {},
     "output_type": "execute_result"
    }
   ],
   "source": [
    "objective_thresholds = [\n",
    "    ObjectiveThreshold(metric=metrics[0], bound=0.6, relative=False), #high energy RMSE: 0.75\n",
    "    ObjectiveThreshold(metric=metrics[1], bound=0.75, relative=False)#, #low energy RMSE: 0.6\n",
    "    ]\n",
    "objective_thresholds"
   ]
  },
  {
   "cell_type": "code",
   "execution_count": 28,
   "id": "f9883b27-f781-4c6b-88bc-f651005ed506",
   "metadata": {},
   "outputs": [
    {
     "name": "stdout",
     "output_type": "stream",
     "text": [
      "Set threshold: low_RMSE <= 0.6\n",
      "Set threshold: high_RMSE <= 0.75\n",
      "Created new experiment: pareto_experiment_corrected_thresholds\n",
      "Original experiment had 61 trials\n",
      "Warning: Could not copy trial 0: Cannot mark trial running without setting runner.\n",
      "Warning: Could not copy trial 1: Cannot mark trial running without setting runner.\n",
      "Warning: Could not copy trial 2: Cannot mark trial running without setting runner.\n",
      "Warning: Could not copy trial 3: Cannot mark trial running without setting runner.\n",
      "Warning: Could not copy trial 4: Cannot mark trial running without setting runner.\n",
      "Warning: Could not copy trial 5: Cannot mark trial running without setting runner.\n",
      "Warning: Could not copy trial 6: Cannot mark trial running without setting runner.\n",
      "Warning: Could not copy trial 7: Cannot mark trial running without setting runner.\n",
      "Warning: Could not copy trial 8: Cannot mark trial running without setting runner.\n",
      "Warning: Could not copy trial 9: Cannot mark trial running without setting runner.\n",
      "Warning: Could not copy trial 10: Cannot mark trial running without setting runner.\n",
      "Warning: Could not copy trial 11: Cannot mark trial running without setting runner.\n",
      "Warning: Could not copy trial 12: Cannot mark trial running without setting runner.\n",
      "Warning: Could not copy trial 13: Cannot mark trial running without setting runner.\n",
      "Warning: Could not copy trial 14: Cannot mark trial running without setting runner.\n",
      "Warning: Could not copy trial 15: Cannot mark trial running without setting runner.\n",
      "Warning: Could not copy trial 16: Cannot mark trial running without setting runner.\n",
      "Warning: Could not copy trial 17: Cannot mark trial running without setting runner.\n",
      "Warning: Could not copy trial 18: Cannot mark trial running without setting runner.\n",
      "Warning: Could not copy trial 19: Cannot mark trial running without setting runner.\n",
      "Warning: Could not copy trial 20: Cannot mark trial running without setting runner.\n",
      "Warning: Could not copy trial 21: Cannot mark trial running without setting runner.\n",
      "Warning: Could not copy trial 22: Cannot mark trial running without setting runner.\n",
      "Warning: Could not copy trial 23: Cannot mark trial running without setting runner.\n",
      "Warning: Could not copy trial 24: Cannot mark trial running without setting runner.\n",
      "Warning: Could not copy trial 25: Cannot mark trial running without setting runner.\n",
      "Warning: Could not copy trial 26: Cannot mark trial running without setting runner.\n",
      "Warning: Could not copy trial 27: Cannot mark trial running without setting runner.\n",
      "Warning: Could not copy trial 28: Cannot mark trial running without setting runner.\n",
      "Warning: Could not copy trial 29: Cannot mark trial running without setting runner.\n",
      "Warning: Could not copy trial 30: Cannot mark trial running without setting runner.\n",
      "Warning: Could not copy trial 31: Cannot mark trial running without setting runner.\n",
      "Warning: Could not copy trial 32: Cannot mark trial running without setting runner.\n",
      "Warning: Could not copy trial 33: Cannot mark trial running without setting runner.\n",
      "Warning: Could not copy trial 34: Cannot mark trial running without setting runner.\n",
      "Warning: Could not copy trial 35: Cannot mark trial running without setting runner.\n",
      "Warning: Could not copy trial 36: Cannot mark trial running without setting runner.\n",
      "Warning: Could not copy trial 37: Cannot mark trial running without setting runner.\n",
      "Warning: Could not copy trial 38: Cannot mark trial running without setting runner.\n",
      "Warning: Could not copy trial 39: Cannot mark trial running without setting runner.\n",
      "Warning: Could not copy trial 40: Cannot mark trial running without setting runner.\n",
      "Warning: Could not copy trial 41: Cannot mark trial running without setting runner.\n",
      "Warning: Could not copy trial 42: Cannot mark trial running without setting runner.\n",
      "Warning: Could not copy trial 43: Cannot mark trial running without setting runner.\n",
      "Warning: Could not copy trial 44: Cannot mark trial running without setting runner.\n",
      "Warning: Could not copy trial 45: Cannot mark trial running without setting runner.\n",
      "Warning: Could not copy trial 46: Cannot mark trial running without setting runner.\n",
      "Warning: Could not copy trial 47: Cannot mark trial running without setting runner.\n",
      "Warning: Could not copy trial 48: Cannot mark trial running without setting runner.\n",
      "Warning: Could not copy trial 49: Cannot mark trial running without setting runner.\n",
      "Warning: Could not copy trial 50: Cannot mark trial running without setting runner.\n",
      "Warning: Could not copy trial 51: Cannot mark trial running without setting runner.\n",
      "Warning: Could not copy trial 52: Cannot mark trial running without setting runner.\n",
      "Warning: Could not copy trial 53: Cannot mark trial running without setting runner.\n",
      "Warning: Could not copy trial 54: Cannot mark trial running without setting runner.\n",
      "Warning: Could not copy trial 55: Cannot mark trial running without setting runner.\n",
      "Warning: Could not copy trial 56: Cannot mark trial running without setting runner.\n",
      "Warning: Could not copy trial 57: Cannot mark trial running without setting runner.\n",
      "Warning: Could not copy trial 58: Cannot mark trial running without setting runner.\n",
      "Warning: Could not copy trial 59: Cannot mark trial running without setting runner.\n",
      "Warning: Could not copy trial 60: Cannot mark trial running without setting runner.\n",
      "Successfully copied 0 trials\n",
      "\n",
      "New objective thresholds:\n",
      "  low_RMSE <= 0.6\n",
      "  high_RMSE <= 0.75\n"
     ]
    }
   ],
   "source": [
    "\n",
    "from ProjectUtils.runner_utilities import SlurmJobRunner\n",
    "def copy_experiment_with_corrected_thresholds(original_experiment, new_experiment_name=None):\n",
    "    \"\"\"\n",
    "    Copy an experiment to a new one with corrected objective thresholds\n",
    "    \"\"\"\n",
    "    # Get the metrics from the original experiment's objectives\n",
    "    objective_metrics = []\n",
    "    if hasattr(original_experiment.optimization_config.objective, 'objectives'):\n",
    "        # Multi-objective case\n",
    "        for obj in original_experiment.optimization_config.objective.objectives:\n",
    "            objective_metrics.append(obj.metric)\n",
    "    else:\n",
    "        # Single objective case\n",
    "        objective_metrics.append(original_experiment.optimization_config.objective.metric)\n",
    "    \n",
    "    # Create new objective thresholds\n",
    "    new_objective_thresholds = []\n",
    "    \n",
    "    for metric in objective_metrics:\n",
    "        if metric.name == \"high_RMSE\":\n",
    "            new_objective_thresholds.append(\n",
    "                ObjectiveThreshold(metric=metric, bound=0.75, relative=False)\n",
    "            )\n",
    "            print(f\"Set threshold: {metric.name} <= 0.75\")\n",
    "        elif metric.name == \"low_RMSE\":\n",
    "            new_objective_thresholds.append(\n",
    "                ObjectiveThreshold(metric=metric, bound=0.6, relative=False)\n",
    "            )\n",
    "            print(f\"Set threshold: {metric.name} <= 0.6\")\n",
    "        elif metric.name == \"sepMuPi_5GeV\":\n",
    "            # Keep the existing threshold or set a new one\n",
    "            existing_threshold = None\n",
    "            for thresh in original_experiment.optimization_config.objective_thresholds:\n",
    "                if thresh.metric.name == metric.name:\n",
    "                    existing_threshold = thresh\n",
    "                    break\n",
    "            \n",
    "            if existing_threshold:\n",
    "                new_objective_thresholds.append(existing_threshold)\n",
    "                print(f\"Kept existing threshold: {metric.name} <= {existing_threshold.bound}\")\n",
    "            else:\n",
    "                # Set a default threshold if none exists\n",
    "                new_objective_thresholds.append(\n",
    "                    ObjectiveThreshold(metric=metric, bound=0.77, relative=False)\n",
    "                )\n",
    "                print(f\"Set default threshold: {metric.name} <= 0.77\")\n",
    "    \n",
    "    # Create new experiment name if not provided\n",
    "    if new_experiment_name is None:\n",
    "        new_experiment_name = f\"{original_experiment.name}_corrected_thresholds\"\n",
    "    \n",
    "    # Create new experiment with corrected thresholds\n",
    "    corrected_experiment = ax.Experiment(\n",
    "        search_space=original_experiment.search_space,\n",
    "        name=new_experiment_name,\n",
    "        optimization_config=MultiObjectiveOptimizationConfig(\n",
    "            objective=original_experiment.optimization_config.objective,\n",
    "            objective_thresholds=new_objective_thresholds\n",
    "        ),\n",
    "        runner=SlurmJobRunner()\n",
    "    )\n",
    "    print(f\"Runner: {corrected_experiment.runner}\")\n",
    "    print(f\"Created new experiment: {new_experiment_name}\")\n",
    "    print(f\"Original experiment had {len(original_experiment.trials)} trials\")\n",
    "    \n",
    "    # Copy all trials and their data\n",
    "    successful_copies = 0\n",
    "    for trial_index, original_trial in original_experiment.trials.items():\n",
    "        try:\n",
    "            # Create new trial with same parameters\n",
    "            new_trial = corrected_experiment.new_trial()\n",
    "            new_trial.add_arm(original_trial.arm)\n",
    "            \n",
    "            # Handle different trial statuses\n",
    "            if original_trial.status.is_completed:\n",
    "                # For completed trials: run -> attach data -> complete\n",
    "                new_trial.mark_running()\n",
    "                trial_data = original_trial.fetch_data()\n",
    "                corrected_experiment.attach_data(trial_data)\n",
    "                new_trial.mark_completed()\n",
    "            elif original_trial.status.is_running:\n",
    "                new_trial.mark_running()\n",
    "            elif original_trial.status.is_failed:\n",
    "                new_trial.mark_failed()\n",
    "            else:\n",
    "                # Trial is in some other state, keep it as-is (likely CANDIDATE)\n",
    "                pass\n",
    "            \n",
    "            successful_copies += 1\n",
    "                \n",
    "        except Exception as e:\n",
    "            print(f\"Warning: Could not copy trial {trial_index}: {e}\")\n",
    "            continue\n",
    "    \n",
    "    print(f\"Successfully copied {successful_copies} trials\")\n",
    "    \n",
    "    # Verify the thresholds were set correctly\n",
    "    print(\"\\nNew objective thresholds:\")\n",
    "    for threshold in corrected_experiment.optimization_config.objective_thresholds:\n",
    "        print(f\"  {threshold.metric.name} <= {threshold.bound}\")\n",
    "    \n",
    "    return corrected_experiment\n",
    "\n",
    "# Usage:\n",
    "original_experiment = experiment\n",
    "corrected_experiment = copy_experiment_with_corrected_thresholds(experiment)\n"
   ]
  },
  {
   "cell_type": "code",
   "execution_count": 24,
   "id": "5117e842-9a74-43ae-9dbf-949c2c3696ab",
   "metadata": {},
   "outputs": [
    {
     "name": "stdout",
     "output_type": "stream",
     "text": [
      "Created new experiment: pareto_experiment_corrected_constraints\n",
      "Original experiment had 61 trials\n",
      "Warning: Could not copy trial 0: 'Trial' object has no attribute 'attach_data'\n",
      "Warning: Could not copy trial 1: 'Trial' object has no attribute 'attach_data'\n",
      "Warning: Could not copy trial 2: 'Trial' object has no attribute 'attach_data'\n",
      "Warning: Could not copy trial 3: 'Trial' object has no attribute 'attach_data'\n",
      "Warning: Could not copy trial 4: 'Trial' object has no attribute 'attach_data'\n",
      "Warning: Could not copy trial 5: 'Trial' object has no attribute 'attach_data'\n",
      "Warning: Could not copy trial 6: 'Trial' object has no attribute 'attach_data'\n",
      "Warning: Could not copy trial 7: 'Trial' object has no attribute 'attach_data'\n",
      "Warning: Could not copy trial 8: 'Trial' object has no attribute 'attach_data'\n",
      "Warning: Could not copy trial 9: 'Trial' object has no attribute 'attach_data'\n",
      "Warning: Could not copy trial 10: 'Trial' object has no attribute 'attach_data'\n",
      "Warning: Could not copy trial 11: 'Trial' object has no attribute 'attach_data'\n",
      "Warning: Could not copy trial 12: 'Trial' object has no attribute 'attach_data'\n",
      "Warning: Could not copy trial 13: 'Trial' object has no attribute 'attach_data'\n",
      "Warning: Could not copy trial 14: 'Trial' object has no attribute 'attach_data'\n",
      "Warning: Could not copy trial 15: 'Trial' object has no attribute 'attach_data'\n",
      "Warning: Could not copy trial 16: 'Trial' object has no attribute 'attach_data'\n",
      "Warning: Could not copy trial 17: 'Trial' object has no attribute 'attach_data'\n",
      "Warning: Could not copy trial 18: 'Trial' object has no attribute 'attach_data'\n",
      "Warning: Could not copy trial 19: 'Trial' object has no attribute 'attach_data'\n",
      "Warning: Could not copy trial 20: 'Trial' object has no attribute 'attach_data'\n",
      "Warning: Could not copy trial 21: 'Trial' object has no attribute 'attach_data'\n",
      "Warning: Could not copy trial 22: 'Trial' object has no attribute 'attach_data'\n",
      "Warning: Could not copy trial 23: 'Trial' object has no attribute 'attach_data'\n",
      "Warning: Could not copy trial 24: 'Trial' object has no attribute 'attach_data'\n",
      "Warning: Could not copy trial 25: 'Trial' object has no attribute 'attach_data'\n",
      "Warning: Could not copy trial 26: 'Trial' object has no attribute 'attach_data'\n",
      "Warning: Could not copy trial 27: 'Trial' object has no attribute 'attach_data'\n",
      "Warning: Could not copy trial 28: 'Trial' object has no attribute 'attach_data'\n",
      "Warning: Could not copy trial 29: 'Trial' object has no attribute 'attach_data'\n",
      "Warning: Could not copy trial 30: 'Trial' object has no attribute 'attach_data'\n",
      "Warning: Could not copy trial 31: 'Trial' object has no attribute 'attach_data'\n",
      "Warning: Could not copy trial 32: 'Trial' object has no attribute 'attach_data'\n",
      "Warning: Could not copy trial 33: 'Trial' object has no attribute 'attach_data'\n",
      "Warning: Could not copy trial 34: 'Trial' object has no attribute 'attach_data'\n",
      "Warning: Could not copy trial 35: 'Trial' object has no attribute 'attach_data'\n",
      "Warning: Could not copy trial 36: 'Trial' object has no attribute 'attach_data'\n",
      "Warning: Could not copy trial 37: 'Trial' object has no attribute 'attach_data'\n",
      "Warning: Could not copy trial 38: 'Trial' object has no attribute 'attach_data'\n",
      "Warning: Could not copy trial 39: 'Trial' object has no attribute 'attach_data'\n",
      "Warning: Could not copy trial 40: 'Trial' object has no attribute 'attach_data'\n",
      "Warning: Could not copy trial 41: 'Trial' object has no attribute 'attach_data'\n",
      "Warning: Could not copy trial 42: 'Trial' object has no attribute 'attach_data'\n",
      "Warning: Could not copy trial 43: 'Trial' object has no attribute 'attach_data'\n",
      "Warning: Could not copy trial 44: 'Trial' object has no attribute 'attach_data'\n",
      "Warning: Could not copy trial 45: 'Trial' object has no attribute 'attach_data'\n",
      "Warning: Could not copy trial 46: 'Trial' object has no attribute 'attach_data'\n",
      "Warning: Could not copy trial 47: 'Trial' object has no attribute 'attach_data'\n",
      "Warning: Could not copy trial 48: 'Trial' object has no attribute 'attach_data'\n",
      "Warning: Could not copy trial 49: 'Trial' object has no attribute 'attach_data'\n",
      "Warning: Could not copy trial 50: 'Trial' object has no attribute 'attach_data'\n",
      "Warning: Could not copy trial 51: 'Trial' object has no attribute 'attach_data'\n",
      "Warning: Could not copy trial 52: 'Trial' object has no attribute 'attach_data'\n",
      "Warning: Could not copy trial 53: 'Trial' object has no attribute 'attach_data'\n",
      "Warning: Could not copy trial 54: 'Trial' object has no attribute 'attach_data'\n",
      "Warning: Could not copy trial 55: 'Trial' object has no attribute 'attach_data'\n",
      "Warning: Could not copy trial 56: 'Trial' object has no attribute 'attach_data'\n",
      "Warning: Could not copy trial 57: 'Trial' object has no attribute 'attach_data'\n",
      "Warning: Could not copy trial 58: 'Trial' object has no attribute 'attach_data'\n",
      "Warning: Could not copy trial 59: 'Trial' object has no attribute 'attach_data'\n",
      "Warning: Could not copy trial 60: 'Trial' object has no attribute 'attach_data'\n",
      "Successfully copied 61 trials\n",
      "\n",
      "New constraints:\n"
     ]
    }
   ],
   "source": [
    "import ax\n",
    "from ax.core.optimization_config import MultiObjectiveOptimizationConfig\n",
    "from ax.core.outcome_constraint import OutcomeConstraint\n",
    "from ax.core.types import ComparisonOp\n",
    "\n",
    "def copy_experiment_with_corrected_constraints(original_experiment, new_experiment_name=None):\n",
    "    \"\"\"\n",
    "    Copy an experiment to a new one with corrected constraints\n",
    "    \"\"\"\n",
    "    # Create OutcomeConstraint objects instead of strings\n",
    "    # Find the metrics in your experiment\n",
    "    low_rmse_metric = None\n",
    "    high_rmse_metric = None\n",
    "    \n",
    "    # Get metrics from the original experiment\n",
    "    for metric_name, metric in original_experiment.metrics.items():\n",
    "        if metric_name == \"low_RMSE\":\n",
    "            low_rmse_metric = metric\n",
    "        elif metric_name == \"high_RMSE\":\n",
    "            high_rmse_metric = metric\n",
    "    \n",
    "    # Create constraint objects\n",
    "    new_outcome_constraints = []\n",
    "    \n",
    "    if low_rmse_metric is not None:\n",
    "        new_outcome_constraints.append(\n",
    "            OutcomeConstraint(\n",
    "                metric=low_rmse_metric,\n",
    "                op=ComparisonOp.LEQ,\n",
    "                bound=0.6,\n",
    "                relative=False\n",
    "            )\n",
    "        )\n",
    "    \n",
    "    if high_rmse_metric is not None:\n",
    "        new_outcome_constraints.append(\n",
    "            OutcomeConstraint(\n",
    "                metric=high_rmse_metric,\n",
    "                op=ComparisonOp.LEQ,\n",
    "                bound=0.75,\n",
    "                relative=False\n",
    "            )\n",
    "        )\n",
    "    \n",
    "    # Create new experiment name if not provided\n",
    "    if new_experiment_name is None:\n",
    "        new_experiment_name = f\"{original_experiment.name}_corrected_constraints\"\n",
    "    \n",
    "    # Create new experiment with corrected constraints\n",
    "    corrected_experiment = ax.Experiment(\n",
    "        search_space=original_experiment.search_space,\n",
    "        name=new_experiment_name,\n",
    "        optimization_config=MultiObjectiveOptimizationConfig(\n",
    "            objective=original_experiment.optimization_config.objective,\n",
    "            objective_thresholds = [\n",
    "    ObjectiveThreshold(metric=metrics[0], bound=0.6, relative=False), #high energy RMSE: 0.75\n",
    "    ObjectiveThreshold(metric=metrics[1], bound=0.75, relative=False)#, #low energy RMSE: 0.6\n",
    "    ]\n",
    "        )\n",
    "    )\n",
    "    \n",
    "    print(f\"Created new experiment: {new_experiment_name}\")\n",
    "    print(f\"Original experiment had {len(original_experiment.trials)} trials\")\n",
    "    \n",
    "    # Copy all trials and their data\n",
    "    for trial_index, original_trial in original_experiment.trials.items():\n",
    "        try:\n",
    "            # Create new trial with same parameters\n",
    "            new_trial = corrected_experiment.new_trial()\n",
    "            new_trial.add_arm(original_trial.arm)\n",
    "            \n",
    "            # If the original trial was completed, copy its data\n",
    "            if original_trial.status.is_completed:\n",
    "                trial_data = original_trial.fetch_data()\n",
    "                new_trial.attach_data(trial_data)\n",
    "                new_trial.mark_completed()\n",
    "            elif original_trial.status.is_running:\n",
    "                new_trial.mark_running()\n",
    "            elif original_trial.status.is_failed:\n",
    "                new_trial.mark_failed()\n",
    "                \n",
    "        except Exception as e:\n",
    "            print(f\"Warning: Could not copy trial {trial_index}: {e}\")\n",
    "            continue\n",
    "    \n",
    "    print(f\"Successfully copied {len(corrected_experiment.trials)} trials\")\n",
    "    \n",
    "    # Verify the constraints were set correctly\n",
    "    print(\"\\nNew constraints:\")\n",
    "    for constraint in corrected_experiment.optimization_config.outcome_constraints:\n",
    "        print(f\"  {constraint.metric.name} {constraint.op.name} {constraint.bound}\")\n",
    "    \n",
    "    return corrected_experiment\n",
    "\n",
    "# Usage:\n",
    "original_experiment = experiment\n",
    "corrected_experiment = copy_experiment_with_corrected_constraints(experiment)"
   ]
  },
  {
   "cell_type": "code",
   "execution_count": 1,
   "id": "8d9a763c-9684-460f-a269-457c9cfc6fe7",
   "metadata": {},
   "outputs": [
    {
     "data": {
      "text/plain": [
       "2835.3999999999996"
      ]
     },
     "execution_count": 1,
     "metadata": {},
     "output_type": "execute_result"
    }
   ],
   "source": [
    "# For each layer, in mm\n",
    "airgap = 0.3\n",
    "scint = 20\n",
    "steel = 55.5\n",
    "\n",
    "one_layer = airgap * 2 + scint + steel\n",
    "n_layers = 14\n",
    "all_layers = n_layers * one_layer\n",
    "\n",
    "inner_radius = 1770\n",
    "outer_radius = inner_radius + all_layers\n",
    "outer_radius"
   ]
  },
  {
   "cell_type": "code",
   "execution_count": 3,
   "id": "0c3d56b3-2f05-4d2e-bae5-04b0037df59c",
   "metadata": {
    "tags": []
   },
   "outputs": [],
   "source": [
    "import plotly.io as pio\n",
    "pio.renderers.default = 'iframe'\n",
    "\n",
    "import sys\n",
    "sys.path.append('/hpc/group/vossenlab/rck32/eic/dRICH-MOBO/MOBO-tools')\n",
    "eic_pref = \"/hpc/group/vossenlab/rck32/eic/\"\n",
    "from wrapper_slurm_basic import *\n",
    "\n",
    "from ax.plot.scatter import interact_fitted, lattice_multiple_metrics\n",
    "from ax.plot.pareto_utils import compute_posterior_pareto_frontier, get_observed_pareto_frontiers\n",
    "from ax.plot.pareto_frontier import scatter_plot_with_hypervolume_trace_plotly, plot_pareto_frontier, interact_pareto_frontier\n",
    "from ax.plot.slice import plot_slice\n",
    "from ax.plot.slice import interact_slice\n",
    "from ax.plot.contour import interact_contour\n",
    "from ax.plot.contour import plot_contour\n",
    "from ax.modelbridge.cross_validation import compute_diagnostics, cross_validate\n",
    "from ax.plot.diagnostic import interact_cross_validation\n",
    "from ax.plot.parallel_coordinates import plot_parallel_coordinates\n",
    "from ax.utils.notebook.plotting import render\n",
    "\n",
    "from ax.storage.json_store.load import load_experiment\n",
    "bundle = RegistryBundle(metric_clss={SlurmJobMetric: None}, runner_clss={SlurmJobRunner: None})\n",
    "\n",
    "\n",
    "from ax.plot.render import plot_config_to_html\n",
    "from ax.utils.report.render import render_report_elements\n",
    "import plotly.graph_objs as go\n",
    "import os\n",
    "import shutil"
   ]
  },
  {
   "cell_type": "code",
   "execution_count": 16,
   "id": "40f4eb46-a14f-4587-a90e-5ab3f8866f9a",
   "metadata": {},
   "outputs": [],
   "source": [
    "class PlotGenerator:\n",
    "    def __init__(self,experiment_dir, experiment_info):\n",
    "        self.experiment_dir = experiment_dir\n",
    "        self.experiment_info = experiment_info\n",
    "        self.zoom = \"tight\"\n",
    "        if(self.zoom == \"loose\"):\n",
    "            self.plot_dir = \"/hpc/group/vossenlab/rck32/eic/dRICH-MOBO/MOBO-tools/plots/PaperPlots_wide_axes/\" #loose\n",
    "        else:\n",
    "            self.plot_dir = \"/hpc/group/vossenlab/rck32/eic/dRICH-MOBO/MOBO-tools/plots/PaperPlots_zoomed/\" #tight\n",
    "        \n",
    "        self.info_to_day_dict = {\n",
    "            \"may_14__objectives__high_rmse_1GeV_mupi_may_14__parameters__division_layer_number_preshower_steel_value\" : \"_may_14\",\n",
    "            \"may_13__objectives__low_rmse_5GeV_mupi_may_13__parameters__division_layer_number_preshower_steel_value\" : \"_may_13\",\n",
    "            \"may_11__objectives__low_rmse_1GeV_mupi_may_11__parameters__division_layer_number_preshower_steel_value\": \"_may_11\",\n",
    "            \"may_10__objectives__high_rmse_5GeV_mupi_may_10__parameters__division_layer_number_preshower_steel_value\": \"_may_10\",\n",
    "            \"may_8__objectives__low_rmse_high_rmse_may_8__parameters__division_layer_number_preshower_steel_value\": \"_may_8\",\n",
    "            \"april_26__objectives__high_rmse_low_rmse_5GeV_mupi_1GeV_mupi_april_26__parameters__preshower_ratio_preshower_steel_ratio_postshower_steel_ratio\" : \"_april_26\",\n",
    "            \"april_18__objectives__high_rmse_low_rmse_1GeV_mupi_april_18__parameters__num_layers_steel_ratio_thick_diff_ratio\": \"_april_18\",\n",
    "            \"april_4__objectives__high_rmse_low_rmse_5GeV_mupi_1GeV_mupi_april_4__parameters__num_layers_steel_ratio\" : \"_april_4\",\n",
    "            \"June_26_experiment_test\" : \"_june_26\"\n",
    "        }\n",
    "        self.date_suffix = self.info_to_day_dict[self.experiment_info]\n",
    "        \n",
    "        '''Members for naming'''\n",
    "        \n",
    "        '''Members for axes limits'''\n",
    "        self.axes_lims_obj_dict_loose = {\n",
    "            #relavent to all experiments\n",
    "            'low_RMSE_pareto' : [0.4, 0.81],\n",
    "            'low_RMSE_slice' : [0.44,0.86],\n",
    "            'high_RMSE_pareto' : [0.6,0.9],\n",
    "            'high_RMSE_slice' : [0.64,1.05],\n",
    "            'sepMuPi_1GeV_pareto' : [0.625,0.975],\n",
    "            'sepMuPi_1GeV_slice' : [0.6,0.975],\n",
    "            'sepMuPi_5GeV_pareto' : [0.69,0.935],\n",
    "            'sepMuPi_5GeV_slice' : [0.475,0.95],\n",
    "        }\n",
    "        self.axes_lims_obj_dict_tight = {\n",
    "            #April 18\n",
    "            'low_RMSE_pareto_april_18' : [0.42,0.565],\n",
    "            'low_RMSE_slice_april_18' : [0.45,0.77],\n",
    "            'high_RMSE_pareto_april_18' : [0.6,0.775],\n",
    "            'high_RMSE_slice_april_18' : [0.65,1.05],\n",
    "            'sepMuPi_1GeV_pareto_april_18' : [0.86,0.975],\n",
    "            'sepMuPi_1GeV_slice_april_18' : [0.4,1],\n",
    "            \n",
    "            #April 26\n",
    "            'low_RMSE_pareto_april_26' : [0.45,0.81],\n",
    "            'low_RMSE_slice_april_26' : [0.45,1],\n",
    "            'high_RMSE_pareto_april_26' : [0.64,0.9],\n",
    "            'high_RMSE_slice_april_26' : [0.675,1],\n",
    "            'sepMuPi_1GeV_pareto_april_26' : [0.625,0.97],\n",
    "            'sepMuPi_1GeV_slice_april_26' : [0.6,1],\n",
    "            'sepMuPi_5GeV_pareto_april_26' : [0.69,0.93],\n",
    "            'sepMuPi_5GeV_slice_april_26' : [0.55,0.95],\n",
    "            \n",
    "            #April 4\n",
    "            'low_RMSE_pareto_april_4' : [0.425,0.59],\n",
    "            'low_RMSE_slice_april_4' : [0.45,0.825],\n",
    "            'high_RMSE_pareto_april_4' : [0.61,0.745],\n",
    "            'high_RMSE_slice_april_4' : [0.65,1.025],\n",
    "            'sepMuPi_1GeV_pareto_april_4' : [0.86,0.96],\n",
    "            'sepMuPi_1GeV_slice_april_4' : [0.595,0.96],\n",
    "            'sepMuPi_5GeV_pareto_april_4' : [0.695,0.935],\n",
    "            'sepMuPi_5GeV_slice_april_4' : [0.475,0.94],\n",
    "            \n",
    "            #May 10\n",
    "            'high_RMSE_pareto_may_10' : [0.656,0.892],\n",
    "            'high_RMSE_slice_may_10' : [0.65,0.775],\n",
    "            'sepMuPi_5GeV_pareto_may_10' : [0.795,0.88],\n",
    "            'sepMuPi_5GeV_slice_may_10' : [0.77,0.85],\n",
    "            \n",
    "            #May 11\n",
    "            'low_RMSE_pareto_may_11' : [0.445,0.55],\n",
    "            'low_RMSE_slice_may_11' : [0.45,0.6],\n",
    "            'sepMuPi_1GeV_pareto_may_11' : [0.905,0.95],\n",
    "            'sepMuPi_1GeV_slice_may_11' : [0.89,0.95],\n",
    "            \n",
    "            #May 13\n",
    "            'low_RMSE_pareto_may_13' : [0.42,0.615],\n",
    "            'low_RMSE_slice_may_13' : [0.445,0.61],\n",
    "            'sepMuPi_5GeV_pareto_may_13' : [0.815,0.87],\n",
    "            'sepMuPi_5GeV_slice_may_13' : [0.76,0.84],\n",
    "            \n",
    "            #May 14\n",
    "            'high_RMSE_pareto_may_14' : [0.64,0.74],\n",
    "            'high_RMSE_slice_may_14' : [0.67,0.79],\n",
    "            'sepMuPi_1GeV_pareto_may_14' : [0.88,0.95],\n",
    "            'sepMuPi_1GeV_slice_may_14' : [0.86,0.94],\n",
    "            \n",
    "            #May 8\n",
    "            'low_RMSE_pareto_may_8' : [0.41,0.56],\n",
    "            'low_RMSE_slice_may_8' : [0.44,0.86],\n",
    "            'high_RMSE_pareto_may_8' : [0.64,0.86],\n",
    "            'high_RMSE_slice_may_8' : [0.64,0.825],\n",
    "            \n",
    "            #June 26\n",
    "            'low_RMSE_pareto_june_26' : [0.41,0.56],\n",
    "            'low_RMSE_slice_june_26' : [0.44,0.86],\n",
    "            'high_RMSE_pareto_june_26' : [0.64,0.86],\n",
    "            'high_RMSE_slice_june_26' : [0.64,0.825]\n",
    "        }\n",
    "        \n",
    "        self.axes_lims_param_dict = {\n",
    "            #relavent to may 8-14 experiments\n",
    "            'preshower_steel_value' : [0,115],\n",
    "            'division_layer_number' : [0,8],\n",
    "            #relevant to april 26 preshower experiment\n",
    "            'preshower_ratio' : [0.04,0.75],\n",
    "            'preshower_steel_ratio' : [0.05,0.95],\n",
    "            'postshower_steel_ratio' : [0.05,0.95],\n",
    "            #relevant to april 18 linear ratio\n",
    "            'steel_ratio' : [0,1],\n",
    "            'num_layers' : [4,19],\n",
    "            'thick_diff_ratio' : [-1,1],\n",
    "            #relevant to june experiments\n",
    "            'steel_slope' : [-1,1],\n",
    "            'scint_slope' : [-1,1]\n",
    "        }\n",
    "        self.yaxis_label_dict = {\n",
    "            'high_RMSE' : 'High energy RMSE (GeV)',\n",
    "            'low_RMSE' : 'Low energy RMSE (GeV)',\n",
    "            'sepMuPi_1GeV' : '1GeV Muon/Pion separation ROC AUC',\n",
    "            'sepMuPi_5GeV' : '5GeV Muon/Pion separation ROC AUC'\n",
    "        }\n",
    "        self.xaxis_label_dict = {\n",
    "            'preshower_steel_value'  : 'Pre shower steel thickness (mm)',\n",
    "            'division_layer_number'  : 'Pre shower dividing layer number',\n",
    "            #preshower_ratio: ratio  of total thickness of \"preshower\" section to \"postshower\" section of KLM\n",
    "            'preshower_ratio'        : 'Pre- vs post- shower ratio',\n",
    "            #preshower_steel_ratio:  ratio of total preshower thickness that is steel (vs scint)\n",
    "            'preshower_steel_ratio'  : \"pre-shower steel ratio\",\n",
    "            'postshower_steel_ratio' : \"post-shower steel ratio\",\n",
    "            'steel_ratio' : 'Steel to scintillator ratio',\n",
    "            'num_layers' : 'Number of layers',\n",
    "            'thick_diff_ratio' : 'Layer thickness factor',\n",
    "            'scint_slope' : 'Scintillator thickness slope',\n",
    "            'steel_slope' : 'Steel thickness slope'\n",
    "        }\n",
    "        self.pareto_front_axis_font_size = 18\n",
    "        self.process()\n",
    "    def create_dir(self):\n",
    "        paths = [f\"{self.plot_dir}SlicePlots/{self.experiment_info}\",f\"{self.plot_dir}ParetoFront/{self.experiment_info}\"]\n",
    "        for path in paths:\n",
    "            if not os.path.isdir(path):\n",
    "                os.mkdir(path)\n",
    "    def get_axes_lims_param(self,param):\n",
    "        return self.axes_lims_param_dict[param]\n",
    "    def get_axes_lims_obj(self,obj,plot_type):\n",
    "        if(self.zoom == \"loose\"):\n",
    "            return self.axes_lims_obj_dict_loose[obj + \"_\" + plot_type]\n",
    "        else:\n",
    "            return self.axes_lims_obj_dict_tight[obj + \"_\" + plot_type + self.date_suffix]\n",
    "    def process(self):\n",
    "        self.experiment = load_experiment(filepath=eic_pref + 'dRICH-MOBO/MOBO-tools/' + self.experiment_dir + '/test_scheduler_experiment.json', decoder_registry=bundle.decoder_registry)\n",
    "        with open(eic_pref + 'dRICH-MOBO/MOBO-tools/' + self.experiment_dir + '/gs_model.pkl', 'rb') as file:\n",
    "            self.model = pickle.load(file)\n",
    "        self.data = self.experiment.fetch_data()\n",
    "        \n",
    "        self.objectives = self.experiment.optimization_config.objective.objectives\n",
    "        self.objectives_names = [x.metric.name for x in self.objectives]\n",
    "        \n",
    "        self.parameters = self.experiment.parameters\n",
    "        self.parameters_names = list(self.parameters.keys())\n",
    "        \n",
    "        self.absolute_metrics = list(self.experiment.metrics.keys())\n",
    "        self.num_points = 60\n",
    "        \n",
    "        self.yaxis_labels = [self.yaxis_label_dict[name] for name in self.objectives_names]\n",
    "        self.xaxis_labels = [self.xaxis_label_dict[name] for name in self.parameters_names]\n",
    "        \n",
    "        '''Y axis is objective, x axis parameter'''\n",
    "        self.xaxis_lims = [self.get_axes_lims_param(param_name) for param_name in self.parameters_names]\n",
    "        self.yaxis_lims = [self.get_axes_lims_obj(objective_name,\"slice\") for objective_name in self.objectives_names]\n",
    "        \n",
    "        self.create_dir()\n",
    "        \n",
    "    def plot_slices(self):\n",
    "        for iter_params, parameter_name in enumerate(self.parameters_names):\n",
    "            for iter_objectives, objective_name in enumerate(self.objectives_names):\n",
    "\n",
    "                slice_plot = plot_slice(self.model, parameter_name,objective_name)\n",
    "\n",
    "                slice_plot.data['layout']['xaxis']['title']['text'] = self.xaxis_labels[iter_params]\n",
    "                slice_plot.data['layout']['yaxis']['title']['text'] = self.yaxis_labels[iter_objectives]\n",
    "                slice_plot.data['layout']['yaxis']['title']['font'] = {'size': 18}\n",
    "                slice_plot.data['layout']['xaxis']['title']['font'] = {'size': 18}\n",
    "                slice_plot.data['layout']['xaxis']['range'] = self.xaxis_lims[iter_params]\n",
    "                slice_plot.data['layout']['yaxis']['range'] = self.yaxis_lims[iter_objectives]\n",
    "                slice_plot.data['layout']['title'] = {}\n",
    "                fig = go.Figure(data=slice_plot.data['data'],layout=slice_plot.data['layout'])\n",
    "                pio.write_image(fig,f\"{self.plot_dir}SlicePlots/{self.experiment_info}/objective_{self.objectives_names[iter_objectives]}_parameter_{parameter_name}.pdf\", format=\"pdf\")\n",
    "    def plot_pareto_fronts(self):\n",
    "        observed_frontiers = get_observed_pareto_frontiers(experiment=self.experiment,rel=False)\n",
    "        \n",
    "        for i, observed_frontier in enumerate(observed_frontiers):\n",
    "\n",
    "            primary_metric = observed_frontier.primary_metric #y axis\n",
    "            secondary_metric = observed_frontier.secondary_metric #x axis\n",
    "\n",
    "            pf = plot_pareto_frontier(observed_frontier)\n",
    "            pf.data['layout']['shapes'] = []\n",
    "            fig = go.Figure(data=pf.data['data'], layout=pf.data['layout'])\n",
    "            fig.update_layout(\n",
    "                title_text=f\"\",\n",
    "                xaxis_title=dict(\n",
    "                    text=self.yaxis_label_dict[secondary_metric],\n",
    "                    font=dict(size=self.pareto_front_axis_font_size)  # Set x-axis title font size\n",
    "                ),\n",
    "                yaxis_title=dict(\n",
    "                    text=self.yaxis_label_dict[primary_metric],\n",
    "                    font=dict(size=self.pareto_front_axis_font_size)  # Set y-axis title font size\n",
    "                ),\n",
    "                width=600,  # or try 600\n",
    "                height=400,\n",
    "                margin=dict(l=50, r=50, t=50, b=50),\n",
    "                xaxis_range=self.get_axes_lims_obj(secondary_metric, \"pareto\"),\n",
    "                yaxis_range=self.get_axes_lims_obj(primary_metric, \"pareto\")\n",
    "            )\n",
    "            pio.write_image(fig, f\"{self.plot_dir}/ParetoFront/{self.experiment_info}/primary_{primary_metric}__vs__secondary_{secondary_metric}.pdf\", format=\"pdf\")"
   ]
  },
  {
   "cell_type": "markdown",
   "id": "d0087eb0-4e2d-4ef2-996a-cb65d8f296d1",
   "metadata": {},
   "source": [
    "## June 26th"
   ]
  },
  {
   "cell_type": "code",
   "execution_count": 17,
   "id": "bc15c453-5e6f-4a81-a530-ec967761f6bd",
   "metadata": {},
   "outputs": [
    {
     "name": "stderr",
     "output_type": "stream",
     "text": [
      "[WARNING 06-26 20:37:11] ax.core.experiment: Experiment's status_quo is updated. Generally the status_quo should not be changed after being set.\n"
     ]
    }
   ],
   "source": [
    "# USING PlotGenerator\n",
    "pg_june26 = PlotGenerator(\"June_26_experiment\",\"June_26_experiment_test\")\n",
    "pg_june26.plot_slices()\n",
    "pg_june26.plot_pareto_fronts()"
   ]
  },
  {
   "cell_type": "code",
   "execution_count": 18,
   "id": "03c20689-fcad-4ef2-961e-78e2626d9ad7",
   "metadata": {},
   "outputs": [
    {
     "data": {
      "text/html": [
       "<iframe\n",
       "    scrolling=\"no\"\n",
       "    width=\"770px\"\n",
       "    height=\"520\"\n",
       "    src=\"iframe_figures/figure_18.html\"\n",
       "    frameborder=\"0\"\n",
       "    allowfullscreen\n",
       "></iframe>\n"
      ]
     },
     "metadata": {},
     "output_type": "display_data"
    }
   ],
   "source": [
    "\n",
    "observed_frontiers = get_observed_pareto_frontiers(experiment=pg_june26.experiment,rel=False)\n",
    "pareto_front_report = interact_pareto_frontier(observed_frontiers)\n",
    "render(pareto_front_report)"
   ]
  },
  {
   "cell_type": "markdown",
   "id": "c9910bfc-25d5-46a9-84ba-66ab3dde254d",
   "metadata": {},
   "source": [
    "## May 14: Pre shower version 2 (high energy neutron and 1GeV mu/pi)"
   ]
  },
  {
   "cell_type": "code",
   "execution_count": 71,
   "id": "775c1b54-6691-4e44-a3af-cf846b75ef60",
   "metadata": {},
   "outputs": [
    {
     "name": "stderr",
     "output_type": "stream",
     "text": [
      "[WARNING 06-22 20:01:50] ax.core.experiment: Experiment's status_quo is updated. Generally the status_quo should not be changed after being set.\n"
     ]
    }
   ],
   "source": [
    "# USING PlotGenerator\n",
    "pg_may14 = PlotGenerator(\"experiment_high_rmse_low_mupi_may_14\",\"may_14__objectives__high_rmse_1GeV_mupi_may_14__parameters__division_layer_number_preshower_steel_value\")\n",
    "pg_may14.plot_slices()\n",
    "pg_may14.plot_pareto_fronts()"
   ]
  },
  {
   "cell_type": "code",
   "execution_count": 85,
   "id": "92264ba7-1777-4efc-a460-7bfddc19632c",
   "metadata": {},
   "outputs": [
    {
     "data": {
      "text/html": [
       "<iframe\n",
       "    scrolling=\"no\"\n",
       "    width=\"770px\"\n",
       "    height=\"520\"\n",
       "    src=\"iframe_figures/figure_85.html\"\n",
       "    frameborder=\"0\"\n",
       "    allowfullscreen\n",
       "></iframe>\n"
      ]
     },
     "metadata": {},
     "output_type": "display_data"
    }
   ],
   "source": [
    "\n",
    "observed_frontiers = get_observed_pareto_frontiers(experiment=pg_may14.experiment,rel=False)\n",
    "pareto_front_report = interact_pareto_frontier(observed_frontiers)\n",
    "render(pareto_front_report)"
   ]
  },
  {
   "cell_type": "markdown",
   "id": "881fb754-c3fb-4fd2-9681-70b735d8a4ce",
   "metadata": {},
   "source": [
    "## May 13: Pre shower version 2 (low energy neutron and 5GeV mu/pi)"
   ]
  },
  {
   "cell_type": "code",
   "execution_count": 72,
   "id": "483cadde-78c6-4ff7-a637-cffe7869707a",
   "metadata": {},
   "outputs": [
    {
     "name": "stderr",
     "output_type": "stream",
     "text": [
      "[WARNING 06-22 20:01:51] ax.core.experiment: Experiment's status_quo is updated. Generally the status_quo should not be changed after being set.\n"
     ]
    }
   ],
   "source": [
    "pg_may13 = PlotGenerator(\"experiment_low_rmse_high_mupi_may_13\",\"may_13__objectives__low_rmse_5GeV_mupi_may_13__parameters__division_layer_number_preshower_steel_value\")\n",
    "pg_may13.plot_slices()\n",
    "pg_may13.plot_pareto_fronts()"
   ]
  },
  {
   "cell_type": "code",
   "execution_count": 84,
   "id": "d84be8a5-5424-4f16-8a74-e2e889e8e4b7",
   "metadata": {},
   "outputs": [
    {
     "data": {
      "text/html": [
       "<iframe\n",
       "    scrolling=\"no\"\n",
       "    width=\"770px\"\n",
       "    height=\"520\"\n",
       "    src=\"iframe_figures/figure_84.html\"\n",
       "    frameborder=\"0\"\n",
       "    allowfullscreen\n",
       "></iframe>\n"
      ]
     },
     "metadata": {},
     "output_type": "display_data"
    }
   ],
   "source": [
    "\n",
    "observed_frontiers = get_observed_pareto_frontiers(experiment=pg_may13.experiment,rel=False)\n",
    "pareto_front_report = interact_pareto_frontier(observed_frontiers)\n",
    "render(pareto_front_report)"
   ]
  },
  {
   "cell_type": "markdown",
   "id": "81616115-9945-484c-8402-03b5d001d5b8",
   "metadata": {},
   "source": [
    "## May 11: Pre shower version 2 (low energy neutron and mu/pi)"
   ]
  },
  {
   "cell_type": "code",
   "execution_count": 73,
   "id": "f38a4356-9609-43a6-bed8-66901fa8c4ac",
   "metadata": {},
   "outputs": [
    {
     "name": "stderr",
     "output_type": "stream",
     "text": [
      "[WARNING 06-22 20:01:53] ax.core.experiment: Experiment's status_quo is updated. Generally the status_quo should not be changed after being set.\n"
     ]
    }
   ],
   "source": [
    "pg_may11 = PlotGenerator(\"experiment_preshower_steel_low_n_low_mupi_may_11\",\"may_11__objectives__low_rmse_1GeV_mupi_may_11__parameters__division_layer_number_preshower_steel_value\")\n",
    "pg_may11.plot_slices()\n",
    "pg_may11.plot_pareto_fronts()"
   ]
  },
  {
   "cell_type": "code",
   "execution_count": 83,
   "id": "ea305280-f2f4-459f-b29a-f7feacae4d7b",
   "metadata": {},
   "outputs": [
    {
     "data": {
      "text/html": [
       "<iframe\n",
       "    scrolling=\"no\"\n",
       "    width=\"770px\"\n",
       "    height=\"520\"\n",
       "    src=\"iframe_figures/figure_83.html\"\n",
       "    frameborder=\"0\"\n",
       "    allowfullscreen\n",
       "></iframe>\n"
      ]
     },
     "metadata": {},
     "output_type": "display_data"
    }
   ],
   "source": [
    "\n",
    "observed_frontiers = get_observed_pareto_frontiers(experiment=pg_may11.experiment,rel=False)\n",
    "pareto_front_report = interact_pareto_frontier(observed_frontiers)\n",
    "render(pareto_front_report)"
   ]
  },
  {
   "cell_type": "markdown",
   "id": "5dae3749-1a27-4274-a5b3-b28b1c581651",
   "metadata": {},
   "source": [
    "## May 10: pre shower version 2 (both high energy)"
   ]
  },
  {
   "cell_type": "code",
   "execution_count": 74,
   "id": "bdef2bea-1f99-4665-8378-c5f25aa615a8",
   "metadata": {},
   "outputs": [
    {
     "name": "stderr",
     "output_type": "stream",
     "text": [
      "[WARNING 06-22 20:01:54] ax.core.experiment: Experiment's status_quo is updated. Generally the status_quo should not be changed after being set.\n"
     ]
    }
   ],
   "source": [
    "pg_may10 = PlotGenerator(\"Experiment_high_mu_energy_may_10\",\"may_10__objectives__high_rmse_5GeV_mupi_may_10__parameters__division_layer_number_preshower_steel_value\")\n",
    "pg_may10.plot_slices()\n",
    "pg_may10.plot_pareto_fronts()"
   ]
  },
  {
   "cell_type": "code",
   "execution_count": 81,
   "id": "241be3ca-8232-4b7a-aa7b-6f9da9d126a3",
   "metadata": {},
   "outputs": [
    {
     "data": {
      "text/html": [
       "<iframe\n",
       "    scrolling=\"no\"\n",
       "    width=\"770px\"\n",
       "    height=\"520\"\n",
       "    src=\"iframe_figures/figure_81.html\"\n",
       "    frameborder=\"0\"\n",
       "    allowfullscreen\n",
       "></iframe>\n"
      ]
     },
     "metadata": {},
     "output_type": "display_data"
    }
   ],
   "source": [
    "\n",
    "observed_frontiers = get_observed_pareto_frontiers(experiment=pg_may10.experiment,rel=False)\n",
    "pareto_front_report = interact_pareto_frontier(observed_frontiers)\n",
    "render(pareto_front_report)"
   ]
  },
  {
   "cell_type": "markdown",
   "id": "30e5e2f5-47f1-4d4b-8d64-2e773b8f1987",
   "metadata": {},
   "source": [
    "## May 8-9th: Pre shower version 2 (2 neutron obj, 2 params)"
   ]
  },
  {
   "cell_type": "code",
   "execution_count": 75,
   "id": "daecde89-6a09-47bc-999f-d51cfa0da64c",
   "metadata": {},
   "outputs": [
    {
     "name": "stderr",
     "output_type": "stream",
     "text": [
      "[WARNING 06-22 20:01:56] ax.core.experiment: Experiment's status_quo is updated. Generally the status_quo should not be changed after being set.\n"
     ]
    }
   ],
   "source": [
    "pg_may8 = PlotGenerator(\"experiment_may_8_preshower_v2_both_neutron\",\"may_8__objectives__low_rmse_high_rmse_may_8__parameters__division_layer_number_preshower_steel_value\")\n",
    "pg_may8.plot_slices()\n",
    "pg_may8.plot_pareto_fronts()"
   ]
  },
  {
   "cell_type": "code",
   "execution_count": 82,
   "id": "fb085803-5e64-4f20-ac00-2f9ef296b5d2",
   "metadata": {},
   "outputs": [
    {
     "data": {
      "text/html": [
       "<iframe\n",
       "    scrolling=\"no\"\n",
       "    width=\"770px\"\n",
       "    height=\"520\"\n",
       "    src=\"iframe_figures/figure_82.html\"\n",
       "    frameborder=\"0\"\n",
       "    allowfullscreen\n",
       "></iframe>\n"
      ]
     },
     "metadata": {},
     "output_type": "display_data"
    }
   ],
   "source": [
    "\n",
    "observed_frontiers = get_observed_pareto_frontiers(experiment=pg_may8.experiment,rel=False)\n",
    "pareto_front_report = interact_pareto_frontier(observed_frontiers)\n",
    "render(pareto_front_report)"
   ]
  },
  {
   "cell_type": "markdown",
   "id": "e33c693e-8a11-47b3-b17d-2cde16c07c3c",
   "metadata": {},
   "source": [
    "# Pre-shower"
   ]
  },
  {
   "cell_type": "code",
   "execution_count": 76,
   "id": "a431822f-efe1-44c7-9bdd-246f5eb5f7f7",
   "metadata": {},
   "outputs": [
    {
     "name": "stderr",
     "output_type": "stream",
     "text": [
      "[WARNING 06-22 20:01:57] ax.core.experiment: Experiment's status_quo is updated. Generally the status_quo should not be changed after being set.\n"
     ]
    }
   ],
   "source": [
    "pg_april26 = PlotGenerator(\"experiment_april_26_preshower_v1\",\"april_26__objectives__high_rmse_low_rmse_5GeV_mupi_1GeV_mupi_april_26__parameters__preshower_ratio_preshower_steel_ratio_postshower_steel_ratio\")\n",
    "pg_april26.plot_slices()\n",
    "pg_april26.plot_pareto_fronts()"
   ]
  },
  {
   "cell_type": "markdown",
   "id": "cfd25746-b841-4097-bf30-7d12eeddb296",
   "metadata": {},
   "source": [
    "# Linear ratio (non-uniform)"
   ]
  },
  {
   "cell_type": "code",
   "execution_count": 77,
   "id": "27f8eaf6-0136-454a-8cdb-67fd742772a0",
   "metadata": {},
   "outputs": [
    {
     "name": "stderr",
     "output_type": "stream",
     "text": [
      "[WARNING 06-22 20:02:02] ax.core.experiment: Experiment's status_quo is updated. Generally the status_quo should not be changed after being set.\n"
     ]
    }
   ],
   "source": [
    "pg_april_18 = PlotGenerator(\"experiment_april_18_linear_ratio\",\"april_18__objectives__high_rmse_low_rmse_1GeV_mupi_april_18__parameters__num_layers_steel_ratio_thick_diff_ratio\")\n",
    "pg_april_18.plot_slices()\n",
    "pg_april_18.plot_pareto_fronts()"
   ]
  },
  {
   "cell_type": "markdown",
   "id": "08690130-cdc1-4de1-b7eb-e99bc75b8fac",
   "metadata": {},
   "source": [
    "## April 4 Basic experiment (steel ratio and number of layers only)"
   ]
  },
  {
   "cell_type": "code",
   "execution_count": 78,
   "id": "0654f695-6cf7-430c-b41b-3d392ae45740",
   "metadata": {},
   "outputs": [
    {
     "name": "stderr",
     "output_type": "stream",
     "text": [
      "[WARNING 06-22 20:02:06] ax.core.experiment: Experiment's status_quo is updated. Generally the status_quo should not be changed after being set.\n"
     ]
    }
   ],
   "source": [
    "pg_april_4 = PlotGenerator(\"experiment_april_4_basic\",\"april_4__objectives__high_rmse_low_rmse_5GeV_mupi_1GeV_mupi_april_4__parameters__num_layers_steel_ratio\")\n",
    "pg_april_4.plot_slices()\n",
    "pg_april_4.plot_pareto_fronts()"
   ]
  },
  {
   "cell_type": "code",
   "execution_count": null,
   "id": "1a40e19f-3e16-4110-9d5f-b8483b040de9",
   "metadata": {},
   "outputs": [],
   "source": []
  },
  {
   "cell_type": "code",
   "execution_count": null,
   "id": "d7c4b2af-ee27-4120-ad88-210dbd27defe",
   "metadata": {},
   "outputs": [],
   "source": []
  }
 ],
 "metadata": {
  "kernelspec": {
   "display_name": "mobo",
   "language": "python",
   "name": "mobo"
  },
  "language_info": {
   "codemirror_mode": {
    "name": "ipython",
    "version": 3
   },
   "file_extension": ".py",
   "mimetype": "text/x-python",
   "name": "python",
   "nbconvert_exporter": "python",
   "pygments_lexer": "ipython3",
   "version": "3.12.4"
  },
  "toc-autonumbering": false,
  "toc-showcode": false,
  "toc-showmarkdowntxt": false
 },
 "nbformat": 4,
 "nbformat_minor": 5
}
